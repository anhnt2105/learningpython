{
 "cells": [
  {
   "cell_type": "markdown",
   "metadata": {},
   "source": [
    "**Bài 1:** Split đoạn string dưới thành list chứa các từ: Hi, my, buddies!\n",
    "\n",
    "    s = \"Hi my buddies!\"    "
   ]
  },
  {
   "cell_type": "code",
   "execution_count": 1,
   "metadata": {
    "collapsed": true
   },
   "outputs": [],
   "source": [
    "s = 'Hi my buddies!'"
   ]
  },
  {
   "cell_type": "code",
   "execution_count": 2,
   "metadata": {},
   "outputs": [
    {
     "data": {
      "text/plain": [
       "['Hi', 'my', 'buddies!']"
      ]
     },
     "execution_count": 2,
     "metadata": {},
     "output_type": "execute_result"
    }
   ],
   "source": [
    "s.split()"
   ]
  },
  {
   "cell_type": "markdown",
   "metadata": {},
   "source": [
    "**Bài 2:** Trả ra kết quả là 'hello' từ list dưới:"
   ]
  },
  {
   "cell_type": "code",
   "execution_count": 3,
   "metadata": {
    "collapsed": true
   },
   "outputs": [],
   "source": [
    "lst = [1,2,[3,4],[5,[100,200,['hello']],23,11],1,7]"
   ]
  },
  {
   "cell_type": "code",
   "execution_count": 5,
   "metadata": {},
   "outputs": [
    {
     "data": {
      "text/plain": [
       "['hello']"
      ]
     },
     "execution_count": 5,
     "metadata": {},
     "output_type": "execute_result"
    }
   ],
   "source": [
    "lst[3][1][2]"
   ]
  },
  {
   "cell_type": "markdown",
   "metadata": {},
   "source": [
    "**Bài 3:** Trả ra kết quả là 'hello' từ dictionary dưới"
   ]
  },
  {
   "cell_type": "code",
   "execution_count": 16,
   "metadata": {},
   "outputs": [],
   "source": [
    "d = {'k1':[1,2,3,{'tricky':['oh','man','inception',{'target':[1,2,3,'hello']}]}]}"
   ]
  },
  {
   "cell_type": "code",
   "execution_count": 22,
   "metadata": {},
   "outputs": [
    {
     "data": {
      "text/plain": [
       "'hello'"
      ]
     },
     "execution_count": 22,
     "metadata": {},
     "output_type": "execute_result"
    }
   ],
   "source": []
  },
  {
   "cell_type": "markdown",
   "metadata": {},
   "source": [
    "**Bài 4:** Cho các biến:<br>\n",
    "\n",
    "    city_from = [\"Hà Nội\", \"Hải Phòng\", \"Quảng Ninh\"]\n",
    "    city_to = [\"Đà Nắng\", \"Sài Gòn\", \"Bình Dương\"]\n",
    "    distance = [1000, 2000, 3000]\n",
    "\n",
    "Print ra đoạn sau:<br>\n",
    "\n",
    "    0. Khoảng cách từ Hà Nội đến Đà Nẵng là 1000\n",
    "    1. Khoảng cách từ Hải Phòng đến Sài Gòn là 2000\n",
    "    2. Khoảng cách từ Quảng Ninh đến Bình Dương là 2000    "
   ]
  },
  {
   "cell_type": "code",
   "execution_count": 6,
   "metadata": {
    "collapsed": true
   },
   "outputs": [],
   "source": [
    "city_from = [\"Hà Nội\", \"Hải Phòng\", \"Quảng Ninh\"]\n",
    "city_to = [\"Đà Nắng\", \"Sài Gòn\", \"Bình Dương\"]\n",
    "distance = [1000, 2000, 3000]"
   ]
  },
  {
   "cell_type": "code",
   "execution_count": 11,
   "metadata": {},
   "outputs": [
    {
     "name": "stdout",
     "output_type": "stream",
     "text": [
      "0. Khoảng cách từ Hà Nội đến Đà Nắng là 1000\n",
      "1. Khoảng cách từ Hải Phòng đến Sài Gòn là 2000\n",
      "2. Khoảng cách từ Quảng Ninh đến Bình Dương là 3000\n"
     ]
    }
   ],
   "source": [
    "for i, (x, y, z) in enumerate(zip(city_from, city_to, distance)):\n",
    "    print('{}. Khoảng cách từ {} đến {} là {}'.format(i, x, y, z))"
   ]
  },
  {
   "cell_type": "markdown",
   "metadata": {},
   "source": [
    "**Bài 5:** Cho 2 list như ở dưới - trả ra phép tính tương tự như **SUMPRODUCT** trong Excel (nhân các phần tử tương ứng - tính tổng)"
   ]
  },
  {
   "cell_type": "code",
   "execution_count": 13,
   "metadata": {},
   "outputs": [],
   "source": [
    "x_vals = [1, 2, 3]\n",
    "y_vals = [4, 5, 6]"
   ]
  },
  {
   "cell_type": "code",
   "execution_count": 17,
   "metadata": {},
   "outputs": [
    {
     "data": {
      "text/plain": [
       "32"
      ]
     },
     "execution_count": 17,
     "metadata": {},
     "output_type": "execute_result"
    }
   ],
   "source": [
    "sum(x*y for x, y in zip(x_vals, y_vals))"
   ]
  },
  {
   "cell_type": "markdown",
   "metadata": {},
   "source": [
    "**Bài 6:** Tạo function `domainGet` lấy email domain, ví dụ: user@domain.com sẽ trả ra domain.com\n",
    "\n",
    "Note: Để đơn giản, chỉ lấy các email có dạng @domain.com"
   ]
  },
  {
   "cell_type": "code",
   "execution_count": null,
   "metadata": {
    "collapsed": true
   },
   "outputs": [],
   "source": []
  },
  {
   "cell_type": "code",
   "execution_count": null,
   "metadata": {},
   "outputs": [],
   "source": []
  },
  {
   "cell_type": "markdown",
   "metadata": {},
   "source": [
    "**Bài 7**: Viết hàm tính giai thừa dựa vào 1 số nhập trước, vd: n!=n×(n−1)×⋯×2×1\n",
    "\n",
    "Báo lỗi nếu số nhập vào không phải int hoặc < 0 "
   ]
  },
  {
   "cell_type": "code",
   "execution_count": 80,
   "metadata": {
    "collapsed": true
   },
   "outputs": [],
   "source": [
    "def giai_thua(n):\n",
    "    if (n < 0 or type(n) != int):\n",
    "        print('Nhập lỗi')\n",
    "    elif n <= 1:\n",
    "        return 1\n",
    "    else:\n",
    "        return n * giai_thua(n-1)"
   ]
  },
  {
   "cell_type": "code",
   "execution_count": 82,
   "metadata": {
    "collapsed": true
   },
   "outputs": [
    {
     "data": {
      "text/plain": [
       "720"
      ]
     },
     "execution_count": 82,
     "metadata": {},
     "output_type": "execute_result"
    }
   ],
   "source": [
    "giai_thua(6)"
   ]
  },
  {
   "cell_type": "markdown",
   "metadata": {},
   "source": [
    "**Bài 8:** Sử dụng lambda expressions và filter() để lọc các từ trong list mà không bắt đầu bằng 's'. VD:\n",
    "\n",
    "    seq = ['soup','dog','salad','cat','great']\n",
    "\n",
    "sẽ được filter thành:\n",
    "\n",
    "    ['soup','salad']"
   ]
  },
  {
   "cell_type": "code",
   "execution_count": 8,
   "metadata": {
    "collapsed": true
   },
   "outputs": [],
   "source": [
    "seq = ['soup','dog','salad','cat','great']"
   ]
  },
  {
   "cell_type": "code",
   "execution_count": 35,
   "metadata": {},
   "outputs": [
    {
     "data": {
      "text/plain": [
       "['soup', 'salad']"
      ]
     },
     "execution_count": 35,
     "metadata": {},
     "output_type": "execute_result"
    }
   ],
   "source": []
  },
  {
   "cell_type": "markdown",
   "metadata": {},
   "source": [
    "**Bài 9:** Dựa vào tốc độ lái xe, viết function trả ra loại tiền phạt nếu lái xe quá tốc độ, bao gồm: **\"Không bị phạt\", \"Phạt nhẹ\", hoặc \"Phạt nặng\"**. \n",
    "- Nếu tốc độ <= 60 - \"Không bị phạt\". \n",
    "- Nếu tốc độ > 60 và <= 80: \"Phạt nhẹ\"\n",
    "- Nếu tốc độ >= 81: \"Phạt nặng\"\n",
    "\n",
    "Tuy nhiên nếu hôm ấy là ngày sinh nhật của bạn thì mặc định trừ tốc độ đi 10 :))\n",
    "\n",
    "Gợi ý: hàm gồm 2 biến: speed và is_birthday - speed nhập vào tốc độ lái xe, is_birthday nhập True - False "
   ]
  },
  {
   "cell_type": "code",
   "execution_count": 20,
   "metadata": {
    "collapsed": true
   },
   "outputs": [],
   "source": [
    "    "
   ]
  },
  {
   "cell_type": "code",
   "execution_count": 21,
   "metadata": {},
   "outputs": [
    {
     "name": "stdout",
     "output_type": "stream",
     "text": [
      "Phạt nhẹ\n"
     ]
    }
   ],
   "source": [
    "loai_phat(81,True)"
   ]
  },
  {
   "cell_type": "code",
   "execution_count": 22,
   "metadata": {},
   "outputs": [
    {
     "name": "stdout",
     "output_type": "stream",
     "text": [
      "Phạt nặng\n"
     ]
    }
   ],
   "source": [
    "loai_phat(81,False)"
   ]
  }
 ],
 "metadata": {
  "kernelspec": {
   "display_name": "Python 3",
   "language": "python",
   "name": "python3"
  },
  "language_info": {
   "codemirror_mode": {
    "name": "ipython",
    "version": 3
   },
   "file_extension": ".py",
   "mimetype": "text/x-python",
   "name": "python",
   "nbconvert_exporter": "python",
   "pygments_lexer": "ipython3",
   "version": "3.7.3"
  }
 },
 "nbformat": 4,
 "nbformat_minor": 2
}
